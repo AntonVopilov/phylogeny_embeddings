{
 "cells": [
  {
   "cell_type": "code",
   "execution_count": 1,
   "metadata": {},
   "outputs": [
    {
     "name": "stderr",
     "output_type": "stream",
     "text": [
      "/home/alisay/tensor_flow_py3/lib/python3.4/importlib/_bootstrap.py:321: FutureWarning: Conversion of the second argument of issubdtype from `float` to `np.floating` is deprecated. In future, it will be treated as `np.float64 == np.dtype(float).type`.\n",
      "  return f(*args, **kwds)\n",
      "Using TensorFlow backend.\n"
     ]
    }
   ],
   "source": [
    "import numpy as np\n",
    "import h5py\n",
    "import tensorflow as tf\n",
    "import keras\n",
    "from keras.models import Sequential, Model\n",
    "from keras.layers import Conv1D, MaxPooling1D\n",
    "from keras.layers import Input, Embedding\n",
    "from keras.layers import Dense, Merge, Dropout\n",
    "from keras.layers import LSTM, Bidirectional\n",
    "from keras import metrics\n",
    "from keras import backend as K\n",
    "from keras.layers import Lambda\n",
    "import pickle"
   ]
  },
  {
   "cell_type": "code",
   "execution_count": 2,
   "metadata": {},
   "outputs": [
    {
     "name": "stdout",
     "output_type": "stream",
     "text": [
      "____________________________________________________________________________________________________\n",
      "Layer (type)                     Output Shape          Param #     Connected to                     \n",
      "====================================================================================================\n",
      "input_2 (InputLayer)             (None, 100)           0                                            \n",
      "____________________________________________________________________________________________________\n",
      "input_3 (InputLayer)             (None, 100)           0                                            \n",
      "____________________________________________________________________________________________________\n",
      "model_1 (Model)                  (None, 10)            3879910                                      \n",
      "____________________________________________________________________________________________________\n",
      "concatenate_1 (Concatenate)      (None, 20)            0                                            \n",
      "____________________________________________________________________________________________________\n",
      "dense_4 (Dense)                  (None, 300)           6300                                         \n",
      "____________________________________________________________________________________________________\n",
      "dense_5 (Dense)                  (None, 1)             301                                          \n",
      "====================================================================================================\n",
      "Total params: 3,886,511\n",
      "Trainable params: 3,886,511\n",
      "Non-trainable params: 0\n",
      "____________________________________________________________________________________________________\n"
     ]
    }
   ],
   "source": [
    "alphabet = \"NACGT\"\n",
    "vocab_size = len(alphabet)\n",
    "time_steps = 100\n",
    "embedding_size = 300 # for embedding layer, maybe remove\n",
    "dense_size = 300\n",
    "category = 10 # size of Y_vector\n",
    "\n",
    "genome_input_shape = (100,)\n",
    "\n",
    "def create_base_network(input_shape):\n",
    "    input = Input(shape=input_shape)\n",
    "    x = Embedding(vocab_size, embedding_size, input_length=time_steps)(input)\n",
    "    x = Bidirectional(LSTM(units=300, return_sequences=True))(x)\n",
    "    x = Dropout(0.50)(x)\n",
    "    x = Bidirectional(LSTM(units=300))(x)\n",
    "    x = Dropout(0.50)(x)\n",
    "\n",
    "    x = Dense(dense_size, activation='relu')(x)\n",
    "    x = Dense(dense_size, activation='relu')(x)\n",
    "    x = Dense(category, activation='linear')(x)\n",
    "    return Model(input, x)\n",
    "\n",
    "\n",
    "model_makes_embedding = create_base_network(genome_input_shape)\n",
    "\n",
    "input_a = Input(shape=genome_input_shape)\n",
    "input_b = Input(shape=genome_input_shape)\n",
    "\n",
    "processed_a = model_makes_embedding(input_a)\n",
    "processed_b = model_makes_embedding(input_b)\n",
    "\n",
    "merged_vector = keras.layers.concatenate([processed_a, processed_b])\n",
    "x = Dense(dense_size, activation='relu')(merged_vector)\n",
    "out = Dense(1, activation='sigmoid')(x)\n",
    "\n",
    "model_pairs_pos_neg = Model([input_a, input_b], out)\n",
    "\n",
    "model_pairs_pos_neg.compile(optimizer='adam', loss='binary_crossentropy', metrics=['accuracy'])\n",
    "\n",
    "model_pairs_pos_neg.summary()"
   ]
  },
  {
   "cell_type": "code",
   "execution_count": 3,
   "metadata": {},
   "outputs": [
    {
     "name": "stdout",
     "output_type": "stream",
     "text": [
      "(99182, 100)\n",
      "(99182,)\n",
      "[[2 3 2 4 3 1 4 3 2 1 2 3 1 1 1 3 2 3 4 3 3 3 3 1 3 2 1 1 1 2 1 3 3 1 4 4\n",
      "  1 3 1 4 1 2 2 2 4 3 3 4 1 3 4 2 2 1 2 3 2 2 3 4 1 1 1 2 3 1 4 3 1 3 4 3\n",
      "  2 4 1 3 1 4 1 4 2 3 3 1 1 3 1 4 4 2 4 2 4 4 4 2 3 3 4 4]]\n",
      "[[3 2 3 3 4 3 3 1 3 4 1 4 3 4 3 3 4 4 4 1 1 4 4 2 3 1 2 3 2 1 1 2 3 2 3 1\n",
      "  1 3 1 1 2 2 4 4 1 2 2 1 3 3 3 2 4 4 3 1 2 1 4 2 3 2 3 2 3 1 2 1 3 2 4 2\n",
      "  4 1 3 1 3 1 4 1 3 1 3 3 3 4 4 2 4 3 2 2 4 4 1 3 3 3 4 1]]\n",
      "[1 1 0 1 1 1 1 0 1 0]\n"
     ]
    }
   ],
   "source": [
    "h5f = h5py.File('X_train_pairs_pos_neg_a.h5','r')\n",
    "X_train_a = h5f['X_a'][:]\n",
    "h5f.close()\n",
    "h5f = h5py.File('X_train_pairs_pos_neg_b.h5','r')\n",
    "X_train_b = h5f['X_b'][:]\n",
    "h5f.close()\n",
    "h5f = h5py.File('Y_train_pairs_pos_neg.h5','r')\n",
    "Y_train = h5f['Y'][:]\n",
    "h5f.close()\n",
    "print(X_train_a.shape)\n",
    "print(Y_train.shape)\n",
    "print(X_train_a[1000:1001])\n",
    "print(X_train_b[1000:1001])\n",
    "print(Y_train[:10])\n",
    "h5f = h5py.File('X_test_pairs_pos_neg_a.h5','r')\n",
    "X_test_a = h5f['X_a'][:]\n",
    "h5f.close()\n",
    "h5f = h5py.File('X_test_pairs_pos_neg_b.h5','r')\n",
    "X_test_b = h5f['X_b'][:]\n",
    "h5f.close()\n",
    "h5f = h5py.File('Y_test_pairs_pos_neg.h5','r')\n",
    "Y_test = h5f['Y'][:]\n",
    "h5f.close()"
   ]
  },
  {
   "cell_type": "code",
   "execution_count": 6,
   "metadata": {},
   "outputs": [
    {
     "name": "stdout",
     "output_type": "stream",
     "text": [
      "Train on 10 samples, validate on 10 samples\n",
      "Epoch 1/1\n",
      "10/10 [==============================] - 5s - loss: 0.6796 - acc: 0.7000 - val_loss: 0.6029 - val_acc: 1.0000\n"
     ]
    },
    {
     "data": {
      "text/plain": [
       "<keras.callbacks.History at 0x7f454a2ba048>"
      ]
     },
     "execution_count": 6,
     "metadata": {},
     "output_type": "execute_result"
    }
   ],
   "source": [
    "model_pairs_pos_neg.fit([X_train_a[:10], X_train_b[:10]], Y_train[:10], validation_data=([X_test_a[:10], X_test_b[:10]], Y_test[:10]), batch_size=128)"
   ]
  },
  {
   "cell_type": "code",
   "execution_count": 6,
   "metadata": {},
   "outputs": [
    {
     "name": "stdout",
     "output_type": "stream",
     "text": [
      "{'loss': [0.6939276200101783, 0.6933943183446944, 0.6932438547260611, 0.693246684206902, 0.6931923478706565], 'val_loss': [0.693960214525212, 0.6932505313552344, 0.6930983159721533, 0.6931079619150603, 0.6930955784384774], 'acc': [0.5008065979702042, 0.5032263918814177, 0.5024903712343125, 0.5018551753714937, 0.503801092960684], 'val_acc': [0.504950495049505, 0.504950495049505, 0.504950495049505, 0.504950495049505, 0.504950495049505]}\n",
      "{'loss': [0.6932802259127555, 0.6931636284042435, 0.6931168800093503, 0.6931675654430143, 0.6931707846106597], 'val_loss': [0.6931072422532889, 0.6931003187753072, 0.6930982078381093, 0.6931166438360599, 0.6930982155329125], 'acc': [0.5025307010872097, 0.5035288661206949, 0.5043152991758688, 0.5044161238742176, 0.5034381238639358], 'val_acc': [0.504950495049505, 0.504950495049505, 0.504950495049505, 0.504950495049505, 0.504950495049505]}\n",
      "{'loss': [0.6931396533983237, 0.6931329643127069, 0.6931790465276477, 0.6931227544160238, 0.6931062555880899], 'val_loss': [0.6930988517149497, 0.6930981651070278, 0.6930983403113373, 0.6930981661154308, 0.6931061421485287], 'acc': [0.5046480208186411, 0.5045673610184958, 0.5035792784842924, 0.5051118146353727, 0.5047790929571436], 'val_acc': [0.504950495049505, 0.504950495049505, 0.504950495049505, 0.504950495049505, 0.504950495049505]}\n",
      "{'loss': [0.6931189491839147, 0.6931112748890846, 0.6931844475166384, 0.6931171256695254, 0.6931345259986309], 'val_loss': [0.693098320252137, 0.6932103942417588, 0.6931243189525045, 0.6942572774743159, 0.6931626203827224], 'acc': [0.5049504950471011, 0.5048194228599207, 0.5037708454940879, 0.5047185981243122, 0.5042749692580677], 'val_acc': [0.504950495049505, 0.504950495049505, 0.504950495049505, 0.49504950495049505, 0.49504950495049505]}\n",
      "loaded\n"
     ]
    },
    {
     "data": {
      "text/plain": [
       "<matplotlib.text.Text at 0x7f6a94045898>"
      ]
     },
     "execution_count": 6,
     "metadata": {},
     "output_type": "execute_result"
    },
    {
     "data": {
      "image/png": "[encoded data removed]",
      "text/plain": [
       "<matplotlib.figure.Figure at 0x7f6a940251d0>"
      ]
     },
     "metadata": {},
     "output_type": "display_data"
    }
   ],
   "source": [
    "%matplotlib inline\n",
    "import pickle\n",
    "import numpy as np\n",
    "import matplotlib.pyplot as plt\n",
    "#plt.plot(history_epoch_1_50_100K['mean_squared_error'] + history_epoch_50_100_100K['mean_squared_error'])\n",
    "#plt.plot(history_epoch_1_50_100K['val_mean_squared_error'] + history_epoch_50_100_100K['val_mean_squared_error'])\n",
    "acc = []\n",
    "val_acc = []\n",
    "for myset in range(1,5):\n",
    "    with open('Jan26_model_pairs_pos_neg_set' + str(myset) + '_history.txt', 'rb') as handle:\n",
    "        saved_history = pickle.loads(handle.read())\n",
    "        acc += saved_history['acc']\n",
    "        val_acc += saved_history['val_acc']\n",
    "        print(saved_history)\n",
    "print(\"loaded\")\n",
    "plt.plot(acc)\n",
    "plt.plot(val_acc)\n",
    "plt.title('acc')\n",
    "plt.xticks(np.arange(0, 20, 1))\n",
    "plt.ylabel('acc')\n",
    "plt.xlabel('epoch')"
   ]
  },
  {
   "cell_type": "code",
   "execution_count": null,
   "metadata": {
    "collapsed": true
   },
   "outputs": [],
   "source": []
  }
 ],
 "metadata": {
  "kernelspec": {
   "display_name": "Python 3",
   "language": "python",
   "name": "python3"
  },
  "language_info": {
   "codemirror_mode": {
    "name": "ipython",
    "version": 3
   },
   "file_extension": ".py",
   "mimetype": "text/x-python",
   "name": "python",
   "nbconvert_exporter": "python",
   "pygments_lexer": "ipython3",
   "version": "3.4.3"
  }
 },
 "nbformat": 4,
 "nbformat_minor": 2
}
