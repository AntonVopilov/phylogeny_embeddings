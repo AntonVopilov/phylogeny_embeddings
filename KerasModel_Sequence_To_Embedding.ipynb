{
 "cells": [
  {
   "cell_type": "code",
   "execution_count": 112,
   "metadata": {
    "collapsed": true,
    "deletable": true,
    "editable": true
   },
   "outputs": [],
   "source": [
    "import numpy as np\n",
    "import h5py\n",
    "import tensorflow as tf\n",
    "import keras\n",
    "from keras.models import Sequential, Model\n",
    "from keras.layers import Conv1D, MaxPooling1D\n",
    "from keras.layers import Input, Embedding\n",
    "from keras.layers import Dense, Merge, Dropout\n",
    "from keras.layers import LSTM, Bidirectional\n",
    "from keras import metrics\n",
    "import keras.backend as K"
   ]
  },
  {
   "cell_type": "code",
   "execution_count": 155,
   "metadata": {
    "collapsed": false,
    "deletable": true,
    "editable": true
   },
   "outputs": [
    {
     "name": "stdout",
     "output_type": "stream",
     "text": [
      "_________________________________________________________________\n",
      "Layer (type)                 Output Shape              Param #   \n",
      "=================================================================\n",
      "embedding_27 (Embedding)     (None, 100, 300)          1500      \n",
      "_________________________________________________________________\n",
      "bidirectional_53 (Bidirectio (None, 100, 600)          1442400   \n",
      "_________________________________________________________________\n",
      "bidirectional_54 (Bidirectio (None, 600)               2162400   \n",
      "_________________________________________________________________\n",
      "dense_80 (Dense)             (None, 300)               180300    \n",
      "_________________________________________________________________\n",
      "dense_81 (Dense)             (None, 300)               90300     \n",
      "_________________________________________________________________\n",
      "dense_82 (Dense)             (None, 10)                3010      \n",
      "=================================================================\n",
      "Total params: 3,879,910\n",
      "Trainable params: 3,879,910\n",
      "Non-trainable params: 0\n",
      "_________________________________________________________________\n"
     ]
    }
   ],
   "source": [
    "#with tf.device('/device:GPU:0'):\n",
    "alphabet = \"NACGT\"\n",
    "vocab_size = len(alphabet)\n",
    "time_steps = 100\n",
    "embedding_size = 300 # for embedding layer, maybe remove\n",
    "dense_size = 300\n",
    "category = 10 # size of Y_vector\n",
    "\n",
    "#dimension_factors = [0.68385941, 0.07137607, 0.07067572, 0.042682, 0.03364847, 0.0262762, 0.0227149, 0.02118112, 0.01409905, 0.01348706]\n",
    "#dimension_factors = [0.1, 0.1, 0.1, 0.1, 0.1, 0.1, 0.1, 0.1, 0.1, 0.1]\n",
    "dimension_factors = [0.5, 0.055, 0.055, 0.055, 0.055, 0.055, 0.055, 0.055, 0.055, 0.055]\n",
    "#dimension_factors = [1.0, 0.0, 0.0, 0.0, 0.0, 0.0, 0.0, 0.0, 0.0, 0.0]\n",
    "def weighted_square_error(y_true, y_pred):\n",
    "    #return K.mean(K.square(y_pred - y_true)*dimension_factors, axis=-1) #quickly goes to <=0.1 for 0.1 factors\n",
    "    return K.sum(K.square(y_pred - y_true)*dimension_factors, axis=-1)\n",
    "\n",
    "model = Sequential()\n",
    "#model.add(Embedding(vocab_size, embedding_size, batch_input_shape=(batch_size, time_steps)))\n",
    "model.add(Embedding(vocab_size, embedding_size, input_length=time_steps))\n",
    "\n",
    "model.add(Bidirectional(LSTM(units=300, return_sequences=True)))\n",
    "#model.add(Dropout(0.250))\n",
    "model.add(Bidirectional(LSTM(units=300)))\n",
    "#model.add(Dropout(0.250))\n",
    "\n",
    "model.add(Dense(dense_size, activation='relu'))\n",
    "model.add(Dense(dense_size, activation='relu'))\n",
    "model.add(Dense(category, activation='linear'))\n",
    "\n",
    "#model.compile(optimizer='adam', loss=weighted_square_error, metrics=[weighted_square_error])\n",
    "model.compile(optimizer='adam', loss='mean_squared_error', metrics=['mean_squared_error']) - quickly goes to <= 1.1\n",
    "\n",
    "model.summary()"
   ]
  },
  {
   "cell_type": "code",
   "execution_count": 142,
   "metadata": {
    "collapsed": false,
    "deletable": true,
    "editable": true
   },
   "outputs": [
    {
     "name": "stdout",
     "output_type": "stream",
     "text": [
      "17.41262584\n"
     ]
    }
   ],
   "source": [
    "# testing the custom keras function\n",
    "dimension_factors = [0.68385941, 0.07137607, 0.07067572, 0.042682, 0.03364847, 0.0262762, 0.0227149, 0.02118112, 0.01409905, 0.01348706]\n",
    "#dimension_factors = [1, 1, 1, 1, 1, 1, 1, 1, 1, 1]\n",
    "def weighted_square_error(y_true, y_pred):\n",
    "    return K.sum(K.square(y_pred - y_true)*dimension_factors, axis=-1)\n",
    "res = weighted_square_error(np.array([5.0, 1.0, 1.0, 1.0, 1.0, 1.0, 1.0, 1.0, 1.0, 1.0]), np.array([0.0,0.0,0.0,0.0,0.0,0.0,0.0,0.0,0.0,0.0]))\n",
    "print(K.eval(res))"
   ]
  },
  {
   "cell_type": "code",
   "execution_count": 106,
   "metadata": {
    "collapsed": false,
    "deletable": true,
    "editable": true
   },
   "outputs": [
    {
     "name": "stdout",
     "output_type": "stream",
     "text": [
      "(97900, 100)\n",
      "(97900, 10)\n"
     ]
    }
   ],
   "source": [
    "h5f = h5py.File('X_train_superfam_16S_bacteria_and_archaea.h5','r')\n",
    "X_train = h5f['X'][:]\n",
    "h5f.close()\n",
    "h5f = h5py.File('Y_train_superfam_16S_bacteria_and_archaea.h5','r')\n",
    "Y_train = h5f['Y'][:]\n",
    "h5f.close()\n",
    "print(X_train.shape)\n",
    "print(Y_train.shape)"
   ]
  },
  {
   "cell_type": "code",
   "execution_count": 167,
   "metadata": {
    "collapsed": false,
    "deletable": true,
    "editable": true,
    "scrolled": true
   },
   "outputs": [
    {
     "name": "stdout",
     "output_type": "stream",
     "text": [
      "Train on 78320 samples, validate on 19580 samples\n",
      "Epoch 1/50\n",
      "78320/78320 [==============================] - 882s - loss: 0.0982 - mean_squared_error: 0.0982 - val_loss: 0.2961 - val_mean_squared_error: 0.2961\n",
      "Epoch 2/50\n",
      "78320/78320 [==============================] - 768s - loss: 0.1343 - mean_squared_error: 0.1343 - val_loss: 0.3195 - val_mean_squared_error: 0.3195\n",
      "Epoch 3/50\n",
      "78320/78320 [==============================] - 777s - loss: 0.1409 - mean_squared_error: 0.1409 - val_loss: 0.3590 - val_mean_squared_error: 0.3590\n",
      "Epoch 4/50\n",
      "78320/78320 [==============================] - 880s - loss: 0.1057 - mean_squared_error: 0.1057 - val_loss: 0.3342 - val_mean_squared_error: 0.3342\n",
      "Epoch 5/50\n",
      "78320/78320 [==============================] - 787s - loss: 0.1176 - mean_squared_error: 0.1176 - val_loss: 0.3124 - val_mean_squared_error: 0.3124\n",
      "Epoch 6/50\n",
      "78320/78320 [==============================] - 846s - loss: 0.1029 - mean_squared_error: 0.1029 - val_loss: 0.2863 - val_mean_squared_error: 0.2863\n",
      "Epoch 7/50\n",
      "78320/78320 [==============================] - 777s - loss: 0.0991 - mean_squared_error: 0.0991 - val_loss: 0.3467 - val_mean_squared_error: 0.3467\n",
      "Epoch 8/50\n",
      "78320/78320 [==============================] - 835s - loss: 0.0880 - mean_squared_error: 0.0880 - val_loss: 0.3093 - val_mean_squared_error: 0.3093\n",
      "Epoch 9/50\n",
      "78320/78320 [==============================] - 857s - loss: 0.0895 - mean_squared_error: 0.0895 - val_loss: 0.3000 - val_mean_squared_error: 0.3000\n",
      "Epoch 10/50\n",
      "78320/78320 [==============================] - 836s - loss: 0.0795 - mean_squared_error: 0.0795 - val_loss: 0.3119 - val_mean_squared_error: 0.3119\n",
      "Epoch 11/50\n",
      "78320/78320 [==============================] - 837s - loss: 0.0959 - mean_squared_error: 0.0959 - val_loss: 0.3042 - val_mean_squared_error: 0.3042\n",
      "Epoch 12/50\n",
      "78320/78320 [==============================] - 930s - loss: 0.1048 - mean_squared_error: 0.1048 - val_loss: 0.3014 - val_mean_squared_error: 0.3014\n",
      "Epoch 13/50\n",
      "78320/78320 [==============================] - 797s - loss: 0.0872 - mean_squared_error: 0.0872 - val_loss: 0.3069 - val_mean_squared_error: 0.3069\n",
      "Epoch 14/50\n",
      "78320/78320 [==============================] - 929s - loss: 0.0993 - mean_squared_error: 0.0993 - val_loss: 0.3166 - val_mean_squared_error: 0.3166\n",
      "Epoch 15/50\n",
      "78320/78320 [==============================] - 890s - loss: 0.0874 - mean_squared_error: 0.0874 - val_loss: 0.3220 - val_mean_squared_error: 0.3220\n",
      "Epoch 16/50\n",
      "78320/78320 [==============================] - 761s - loss: 0.0884 - mean_squared_error: 0.0884 - val_loss: 0.3058 - val_mean_squared_error: 0.3058\n",
      "Epoch 17/50\n",
      "78320/78320 [==============================] - 798s - loss: 0.1069 - mean_squared_error: 0.1069 - val_loss: 0.3616 - val_mean_squared_error: 0.3616\n",
      "Epoch 18/50\n",
      "78320/78320 [==============================] - 828s - loss: 0.1018 - mean_squared_error: 0.1018 - val_loss: 0.3425 - val_mean_squared_error: 0.3425\n",
      "Epoch 19/50\n",
      "78320/78320 [==============================] - 944s - loss: 0.1098 - mean_squared_error: 0.1098 - val_loss: 0.3174 - val_mean_squared_error: 0.3174\n",
      "Epoch 20/50\n",
      "78320/78320 [==============================] - 900s - loss: 0.1086 - mean_squared_error: 0.1086 - val_loss: 0.3044 - val_mean_squared_error: 0.3044\n",
      "Epoch 21/50\n",
      "78320/78320 [==============================] - 890s - loss: 0.0843 - mean_squared_error: 0.0843 - val_loss: 0.3223 - val_mean_squared_error: 0.3223\n",
      "Epoch 22/50\n",
      "78320/78320 [==============================] - 951s - loss: 0.0777 - mean_squared_error: 0.0777 - val_loss: 0.3154 - val_mean_squared_error: 0.3154\n",
      "Epoch 23/50\n",
      "78320/78320 [==============================] - 932s - loss: 0.0811 - mean_squared_error: 0.0811 - val_loss: 0.3182 - val_mean_squared_error: 0.3182\n",
      "Epoch 24/50\n",
      "78320/78320 [==============================] - 883s - loss: 0.0830 - mean_squared_error: 0.0830 - val_loss: 0.3181 - val_mean_squared_error: 0.3181\n",
      "Epoch 25/50\n",
      "78320/78320 [==============================] - 827s - loss: 0.0860 - mean_squared_error: 0.0860 - val_loss: 0.3202 - val_mean_squared_error: 0.3202\n",
      "Epoch 26/50\n",
      "78320/78320 [==============================] - 849s - loss: 0.0824 - mean_squared_error: 0.0824 - val_loss: 0.3164 - val_mean_squared_error: 0.3164\n",
      "Epoch 27/50\n",
      "78320/78320 [==============================] - 842s - loss: 0.0772 - mean_squared_error: 0.0772 - val_loss: 0.3075 - val_mean_squared_error: 0.3075\n",
      "Epoch 28/50\n",
      "78320/78320 [==============================] - 843s - loss: 0.0711 - mean_squared_error: 0.0711 - val_loss: 0.3175 - val_mean_squared_error: 0.3175\n",
      "Epoch 29/50\n",
      "78320/78320 [==============================] - 800s - loss: 0.0785 - mean_squared_error: 0.0785 - val_loss: 0.3369 - val_mean_squared_error: 0.3369\n",
      "Epoch 30/50\n",
      "78320/78320 [==============================] - 849s - loss: 0.1444 - mean_squared_error: 0.1444 - val_loss: 0.3359 - val_mean_squared_error: 0.3359\n",
      "Epoch 31/50\n",
      "78320/78320 [==============================] - 844s - loss: 0.1097 - mean_squared_error: 0.1097 - val_loss: 0.3399 - val_mean_squared_error: 0.3399\n",
      "Epoch 32/50\n",
      "78320/78320 [==============================] - 884s - loss: 0.0903 - mean_squared_error: 0.0903 - val_loss: 0.3161 - val_mean_squared_error: 0.3161\n",
      "Epoch 33/50\n",
      "78320/78320 [==============================] - 923s - loss: 0.0771 - mean_squared_error: 0.0771 - val_loss: 0.3090 - val_mean_squared_error: 0.3090\n",
      "Epoch 34/50\n",
      "78320/78320 [==============================] - 863s - loss: 0.0700 - mean_squared_error: 0.0700 - val_loss: 0.2964 - val_mean_squared_error: 0.2964\n",
      "Epoch 35/50\n",
      "78320/78320 [==============================] - 833s - loss: 0.0741 - mean_squared_error: 0.0741 - val_loss: 0.2987 - val_mean_squared_error: 0.2987\n",
      "Epoch 36/50\n",
      "78320/78320 [==============================] - 781s - loss: 0.0845 - mean_squared_error: 0.0845 - val_loss: 0.3068 - val_mean_squared_error: 0.3068\n",
      "Epoch 37/50\n",
      "78320/78320 [==============================] - 778s - loss: 0.0771 - mean_squared_error: 0.0771 - val_loss: 0.3132 - val_mean_squared_error: 0.3132\n",
      "Epoch 38/50\n",
      "78320/78320 [==============================] - 762s - loss: 0.1350 - mean_squared_error: 0.1350 - val_loss: 0.3786 - val_mean_squared_error: 0.3786\n",
      "Epoch 39/50\n",
      "78320/78320 [==============================] - 794s - loss: 0.1192 - mean_squared_error: 0.1192 - val_loss: 0.3301 - val_mean_squared_error: 0.3301\n",
      "Epoch 40/50\n",
      "78320/78320 [==============================] - 794s - loss: 0.0978 - mean_squared_error: 0.0978 - val_loss: 0.2978 - val_mean_squared_error: 0.2978\n",
      "Epoch 41/50\n",
      "78320/78320 [==============================] - 794s - loss: 0.0927 - mean_squared_error: 0.0927 - val_loss: 0.3468 - val_mean_squared_error: 0.3468\n",
      "Epoch 42/50\n",
      "78320/78320 [==============================] - 776s - loss: 0.0899 - mean_squared_error: 0.0899 - val_loss: 0.3121 - val_mean_squared_error: 0.3121\n",
      "Epoch 43/50\n",
      "78320/78320 [==============================] - 766s - loss: 0.0938 - mean_squared_error: 0.0938 - val_loss: 0.3738 - val_mean_squared_error: 0.3738\n",
      "Epoch 44/50\n",
      "78320/78320 [==============================] - 783s - loss: 0.0890 - mean_squared_error: 0.0890 - val_loss: 0.3205 - val_mean_squared_error: 0.3205\n",
      "Epoch 45/50\n",
      "78320/78320 [==============================] - 790s - loss: 0.0775 - mean_squared_error: 0.0775 - val_loss: 0.3164 - val_mean_squared_error: 0.3164\n",
      "Epoch 46/50\n",
      "78320/78320 [==============================] - 782s - loss: 0.0741 - mean_squared_error: 0.0741 - val_loss: 0.3063 - val_mean_squared_error: 0.3063\n",
      "Epoch 47/50\n",
      "78320/78320 [==============================] - 774s - loss: 0.0839 - mean_squared_error: 0.0839 - val_loss: 0.3167 - val_mean_squared_error: 0.3167\n",
      "Epoch 48/50\n",
      "78320/78320 [==============================] - 775s - loss: 0.0796 - mean_squared_error: 0.0796 - val_loss: 0.3108 - val_mean_squared_error: 0.3108\n",
      "Epoch 49/50\n",
      "78320/78320 [==============================] - 775s - loss: 0.0751 - mean_squared_error: 0.0751 - val_loss: 0.3051 - val_mean_squared_error: 0.3051\n",
      "Epoch 50/50\n",
      "78320/78320 [==============================] - 756s - loss: 0.0919 - mean_squared_error: 0.0919 - val_loss: 0.3242 - val_mean_squared_error: 0.3242\n"
     ]
    }
   ],
   "source": [
    "#random_index = np.random.permutation(Y_train.shape[0])\n",
    "#Y_train_fake = Y_train[random_index, :]\n",
    "\n",
    "batch_size = 128\n",
    "history = model.fit(X_train, Y_train,\n",
    "                    validation_split=0.2, \n",
    "                    batch_size=batch_size, shuffle=True, epochs=50)"
   ]
  },
  {
   "cell_type": "code",
   "execution_count": 166,
   "metadata": {
    "collapsed": true,
    "deletable": true,
    "editable": true
   },
   "outputs": [],
   "source": [
    "from keras.models import load_model\n",
    "import copy\n",
    "import pickle\n",
    "\n",
    "#history_epoch_1_30_16S = copy.deepcopy(history.history)\n",
    "#history_epoch_30_45_16S = copy.deepcopy(history.history)\n",
    "\n",
    "#history.history['mean_squared_error'] = history_epoch_1_30_16S['mean_squared_error'] + history.history['mean_squared_error']\n",
    "#history.history['val_mean_squared_error'] = history_epoch_1_30_16S['val_mean_squared_error'] + history.history['val_mean_squared_error']\n",
    "\n",
    "#with open('Dec8_16S_model_history.txt', 'wb') as handle:\n",
    "#    pickle.dump(history.history, handle)\n",
    "\n",
    "#model.save('Dec8_16S_model.h5')\n",
    "\n",
    "#del model \n",
    "model = load_model('Dec5_16S_model.h5')"
   ]
  },
  {
   "cell_type": "code",
   "execution_count": 73,
   "metadata": {
    "collapsed": false,
    "deletable": true,
    "editable": true
   },
   "outputs": [
    {
     "data": {
      "text/plain": [
       "array([[-0.19722965, -1.1290468 ,  0.00663682,  0.5998646 , -0.52686131,\n",
       "         1.06232429, -0.3202346 ,  0.28701526, -0.20310611,  0.05939835]], dtype=float32)"
      ]
     },
     "execution_count": 73,
     "metadata": {},
     "output_type": "execute_result"
    }
   ],
   "source": [
    "model.predict(X_train[:1])"
   ]
  },
  {
   "cell_type": "code",
   "execution_count": 78,
   "metadata": {
    "collapsed": false,
    "deletable": true,
    "editable": true,
    "scrolled": true
   },
   "outputs": [
    {
     "name": "stdout",
     "output_type": "stream",
     "text": [
      "[[ 0.27738296 -1.29981422 -0.10408728  0.20743367 -0.5760618   1.0140479\n",
      "  -0.33179031  0.15838494 -0.25340111 -0.0586683 ]]\n"
     ]
    }
   ],
   "source": [
    "print(Y_train[:1])"
   ]
  },
  {
   "cell_type": "code",
   "execution_count": null,
   "metadata": {
    "collapsed": true,
    "deletable": true,
    "editable": true
   },
   "outputs": [],
   "source": []
  },
  {
   "cell_type": "code",
   "execution_count": 168,
   "metadata": {
    "collapsed": false,
    "deletable": true,
    "editable": true
   },
   "outputs": [
    {
     "name": "stdout",
     "output_type": "stream",
     "text": [
      "hi\n",
      "loaded\n"
     ]
    },
    {
     "data": {
      "text/plain": [
       "<matplotlib.legend.Legend at 0x7f371c7d94e0>"
      ]
     },
     "execution_count": 168,
     "metadata": {},
     "output_type": "execute_result"
    },
    {
     "data": {
      "image/png": "[encoded data removed]",
      "text/plain": [
       "<matplotlib.figure.Figure at 0x7f37235f8c88>"
      ]
     },
     "metadata": {},
     "output_type": "display_data"
    }
   ],
   "source": [
    "%matplotlib inline\n",
    "import matplotlib.pyplot as plt\n",
    "print(\"hi\")\n",
    "#plt.plot(history_epoch_1_50_100K['mean_squared_error'] + history_epoch_50_100_100K['mean_squared_error'])\n",
    "#plt.plot(history_epoch_1_50_100K['val_mean_squared_error'] + history_epoch_50_100_100K['val_mean_squared_error'])\n",
    "with open('Dec5_16S_model_history.txt', 'rb') as handle:\n",
    "    dec5_45_epochs_history = pickle.loads(handle.read())\n",
    "print(\"loaded\")\n",
    "plt.plot(history.history['mean_squared_error'])\n",
    "plt.plot(history.history['val_mean_squared_error'])\n",
    "plt.title('100K, 0.25 Dropout only after LSTM model, mean squared error')\n",
    "plt.ylabel('mse')\n",
    "plt.xlabel('epoch')\n",
    "plt.legend(['train', 'test'], loc='upper right')"
   ]
  },
  {
   "cell_type": "code",
   "execution_count": 82,
   "metadata": {
    "collapsed": false,
    "deletable": true,
    "editable": true
   },
   "outputs": [
    {
     "name": "stdout",
     "output_type": "stream",
     "text": [
      "[1.1152145929336548, 1.1127177652359008, 1.115556632900238, 1.0984653748512268, 1.0980269250869752, 1.0839108215332032, 1.0810902829170228, 1.0668039016723634, 1.063988427734375, 1.0626038724899292, 1.0565018127441406, 1.0604716356277466, 1.0592864610671997, 1.0640272480010986, 1.08308115234375, 1.0825496788024902, 1.0731799563407898, 1.0853037510871888, 1.0913260318756104, 1.0955821699142456, 1.1005252833366395, 1.1017409677505494, 1.0921395937919616, 1.1131556457519531, 1.1242903165817262, 1.1159117254257203, 1.1210998012542726, 1.140155369567871, 1.130773374080658, 1.1409612243652343, 1.1394356515884398, 1.1660277717590333, 1.1569550365447998, 1.152776338005066, 1.1483390762329102, 1.1804546925544739, 1.1667144771575928, 1.1805262058258057, 1.1889802804946898, 1.1689506666183471, 1.1838653376579285, 1.1901697471618653, 1.1791342103958129, 1.1826737288475038, 1.1886965372085572, 1.195158969116211, 1.1991167499542237, 1.1929523714065551, 1.2051368055343628, 1.193604618358612]\n"
     ]
    }
   ],
   "source": [
    "print(saved_history['val_mean_squared_error'])"
   ]
  },
  {
   "cell_type": "code",
   "execution_count": null,
   "metadata": {
    "collapsed": true,
    "deletable": true,
    "editable": true
   },
   "outputs": [],
   "source": []
  },
  {
   "cell_type": "code",
   "execution_count": 102,
   "metadata": {
    "collapsed": true,
    "deletable": true,
    "editable": true
   },
   "outputs": [],
   "source": [
    "# EVALUATION STARTS HERE\n",
    "h5f = h5py.File('X_test_superfam_16S_bacteria_and_archaea.h5','r')\n",
    "X_test = h5f['X'][:]\n",
    "h5f.close()"
   ]
  },
  {
   "cell_type": "code",
   "execution_count": 103,
   "metadata": {
    "collapsed": true,
    "deletable": true,
    "editable": true
   },
   "outputs": [],
   "source": [
    "predictions = model.predict(X_test)\n",
    "#print(predictions)"
   ]
  },
  {
   "cell_type": "code",
   "execution_count": 104,
   "metadata": {
    "collapsed": true,
    "deletable": true,
    "editable": true
   },
   "outputs": [],
   "source": [
    "h5f_Y = h5py.File('test_evaluation_Dec6_model_superfam_16S_bacteria_and_archaea.h5', 'w')\n",
    "h5f_Y.create_dataset('Y', data=predictions)\n",
    "h5f_Y.close()"
   ]
  },
  {
   "cell_type": "code",
   "execution_count": 79,
   "metadata": {
    "collapsed": false,
    "deletable": true,
    "editable": true
   },
   "outputs": [
    {
     "data": {
      "text/plain": [
       "array([[1, 4, 2, 1, 4, 4, 4, 3, 1, 3, 4, 1, 4, 4, 3, 1, 1, 4, 4, 3, 4, 4,\n",
       "        4, 3, 3, 1, 4, 4, 3, 2, 2, 2, 3, 3, 3, 4, 4, 3, 3, 2, 1, 4, 2, 3,\n",
       "        3, 2, 3, 2, 2, 2, 3, 1, 3, 3, 2, 3, 4, 2, 3, 4, 3, 2, 2, 2, 3, 3,\n",
       "        2, 3, 2, 2, 4, 2, 3, 1, 1, 4, 3, 3, 2, 1, 3, 2, 2, 4, 2, 3, 3, 2,\n",
       "        2, 4, 3, 4, 2, 2, 3, 1, 1, 3, 2, 3]])"
      ]
     },
     "execution_count": 79,
     "metadata": {},
     "output_type": "execute_result"
    }
   ],
   "source": [
    "X_test[:1]"
   ]
  },
  {
   "cell_type": "code",
   "execution_count": 80,
   "metadata": {
    "collapsed": false,
    "deletable": true,
    "editable": true
   },
   "outputs": [
    {
     "data": {
      "text/plain": [
       "array([[ 0.23048048, -0.78514469, -0.07407849,  0.18304779, -0.05353191,\n",
       "        -0.46164179, -0.0345975 , -0.1873433 ,  0.647035  , -0.16296008]], dtype=float32)"
      ]
     },
     "execution_count": 80,
     "metadata": {},
     "output_type": "execute_result"
    }
   ],
   "source": [
    "model.predict(X_test[:1])"
   ]
  },
  {
   "cell_type": "code",
   "execution_count": null,
   "metadata": {
    "collapsed": true,
    "deletable": true,
    "editable": true
   },
   "outputs": [],
   "source": []
  }
 ],
 "metadata": {
  "kernelspec": {
   "display_name": "Python 3",
   "language": "python",
   "name": "python3"
  },
  "language_info": {
   "codemirror_mode": {
    "name": "ipython",
    "version": 3
   },
   "file_extension": ".py",
   "mimetype": "text/x-python",
   "name": "python",
   "nbconvert_exporter": "python",
   "pygments_lexer": "ipython3",
   "version": "3.6.0"
  }
 },
 "nbformat": 4,
 "nbformat_minor": 2
}
