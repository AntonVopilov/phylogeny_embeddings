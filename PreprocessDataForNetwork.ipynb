{
 "cells": [
  {
   "cell_type": "code",
   "execution_count": 41,
   "metadata": {},
   "outputs": [
    {
     "name": "stdout",
     "output_type": "stream",
     "text": [
      "293700\n"
     ]
    }
   ],
   "source": [
    "import gzip\n",
    "all_lines = []\n",
    "#with gzip.open(\"superfam_all_bacteria_and_archaea_sequences_and_embeddings_test.gz\", 'rt') as zip_file:\n",
    "#with gzip.open(\"superfam_all_bacteria_and_archaea_sequences_and_embeddings_test.gz\", 'rt') as zip_file:\n",
    "with gzip.open(\"superfam_16S_bacteria_and_archaea_sequences_and_embeddings_train.gz\", 'rt') as zip_file:\n",
    "    all_lines = zip_file.readlines()\n",
    "print(len(all_lines))"
   ]
  },
  {
   "cell_type": "code",
   "execution_count": 42,
   "metadata": {},
   "outputs": [
    {
     "name": "stdout",
     "output_type": "stream",
     "text": [
      "[32223, 53631, 65059, 20337, 77798, 81366, 53662, 89577, 6159, 94468]\n"
     ]
    }
   ],
   "source": [
    "from random import shuffle\n",
    "length_index = int(len(all_lines)/3)\n",
    "all_indexes = list(range(0,length_index))\n",
    "shuffle(all_indexes)\n",
    "print(all_indexes[:10])"
   ]
  },
  {
   "cell_type": "code",
   "execution_count": 43,
   "metadata": {
    "collapsed": true
   },
   "outputs": [],
   "source": [
    "#file_write = gzip.open(\"randomized_superfam_all_bacteria_and_archaea_sequences_and_embeddings.gz\", \"wt\")\n",
    "#file_write = gzip.open(\"randomized_superfam_all_bacteria_and_archaea_sequences_and_embeddings_test.gz\", \"wt\")\n",
    "file_write = gzip.open(\"randomized_superfam_16S_bacteria_and_archaea_sequences_and_embeddings_train.gz\", \"wt\")\n",
    "count = 0\n",
    "for i in all_indexes:\n",
    "    idx = i*3\n",
    "    file_write.write(all_lines[idx])\n",
    "    file_write.write(all_lines[idx+1])\n",
    "    file_write.write(all_lines[idx+2])\n",
    "    count += 1\n",
    "    #if (count%100 == 0):\n",
    "     #   break\n",
    "file_write.close()"
   ]
  },
  {
   "cell_type": "code",
   "execution_count": 44,
   "metadata": {},
   "outputs": [
    {
     "name": "stdout",
     "output_type": "stream",
     "text": [
      "done\n"
     ]
    }
   ],
   "source": [
    "# read in the randomized input file and create input for network\n",
    "# really short for now\n",
    "import numpy as np\n",
    "import h5py\n",
    "alphabet = \"NACGT\"\n",
    "char_to_int = dict((c, i) for i, c in enumerate(alphabet))\n",
    "int_to_char = dict((i, c) for i, c in enumerate(alphabet))\n",
    "time_steps = 100\n",
    "batch_size = 1\n",
    "category = 10\n",
    "count = 0\n",
    "X = []\n",
    "Y = []\n",
    "#with gzip.open(\"randomized_superfam_all_bacteria_and_archaea_sequences_and_embeddings_train.gz\", 'rt') as zip_file:\n",
    "#with gzip.open(\"randomized_superfam_all_bacteria_and_archaea_sequences_and_embeddings_test.gz\", 'rt') as zip_file:\n",
    "with gzip.open(\"randomized_superfam_16S_bacteria_and_archaea_sequences_and_embeddings_train.gz\", 'rt') as zip_file:\n",
    "    for header in zip_file:\n",
    "        #if (count >= 100000):\n",
    "        #if (count >= 1000):    \n",
    "         #   break\n",
    "        #print(line)\n",
    "        x_data = zip_file.readline().strip()\n",
    "        y_data = zip_file.readline().strip()\n",
    "        integer_encoded = [char_to_int[char] for char in x_data]\n",
    "        \n",
    "        \n",
    "        y_data = np.asarray(y_data[1:-1].split(\", \"))\n",
    "        y_data = [float(i) for i in y_data]\n",
    "        \n",
    "        \n",
    "        X.append(np.asarray(integer_encoded))#.reshape(batch_size, time_steps))\n",
    "        #print(\"X_train Shape = \", X_train[-1].shape)\n",
    "        Y.append(np.asarray(y_data)) #.reshape(batch_size, category))\n",
    "        #print(\"Y_train Shape = \", Y_train[-1].shape)\n",
    "        \n",
    "        count += 1\n",
    "\n",
    "#h5f_X = h5py.File('X_train_superfam_all_bacteria_and_archaea.h5', 'w')\n",
    "#h5f_X = h5py.File('X_test_1K_superfam_all_bacteria_and_archaea.h5', 'w')\n",
    "h5f_X = h5py.File('X_train_superfam_16S_bacteria_and_archaea.h5', 'w')\n",
    "h5f_X.create_dataset('X', data=X)\n",
    "h5f_X.close()\n",
    "#h5f_Y = h5py.File('Y_train_superfam_all_bacteria_and_archaea.h5', 'w')\n",
    "#h5f_Y = h5py.File('Y_test_1K_superfam_all_bacteria_and_archaea.h5', 'w')\n",
    "h5f_Y = h5py.File('Y_train_superfam_16S_bacteria_and_archaea.h5', 'w')\n",
    "h5f_Y.create_dataset('Y', data=Y)\n",
    "h5f_Y.close()\n",
    "print(\"done\")"
   ]
  },
  {
   "cell_type": "code",
   "execution_count": 25,
   "metadata": {},
   "outputs": [
    {
     "name": "stdout",
     "output_type": "stream",
     "text": [
      "hi\n"
     ]
    }
   ],
   "source": [
    "print(\"hi\")"
   ]
  },
  {
   "cell_type": "code",
   "execution_count": null,
   "metadata": {
    "collapsed": true
   },
   "outputs": [],
   "source": []
  },
  {
   "cell_type": "code",
   "execution_count": null,
   "metadata": {
    "collapsed": true
   },
   "outputs": [],
   "source": []
  },
  {
   "cell_type": "code",
   "execution_count": 45,
   "metadata": {},
   "outputs": [
    {
     "name": "stdout",
     "output_type": "stream",
     "text": [
      "done\n"
     ]
    }
   ],
   "source": [
    "# Process test evaluation predictions from keras and associate them with labels\n",
    "import numpy as np\n",
    "import h5py\n",
    "\n",
    "h5f = h5py.File('test_evaluation_Dec6_model_superfam_16S_bacteria_and_archaea.h5','r')\n",
    "Y_Predictions = h5f['Y'][:]\n",
    "h5f.close()\n",
    "\n",
    "count = 0\n",
    "file_write = gzip.open(\"test_evaluation_with_labels_Dec6_model_superfam_16S_bacteria_and_archaea_sequences_and_embeddings.gz\", \"wt\")\n",
    "with gzip.open(\"randomized_superfam_16S_bacteria_and_archaea_sequences_and_embeddings_test.gz\", 'rt') as zip_file:\n",
    "    for header in zip_file:\n",
    "        #if (count >= 1000):\n",
    "        #    break\n",
    "        file_write.write(header.strip() + \"\\n\")\n",
    "        x_data = zip_file.readline().strip()\n",
    "        y_data = zip_file.readline().strip()\n",
    "        file_write.write(str(Y_Predictions[count].tolist()))\n",
    "        file_write.write(\"\\n\")\n",
    "        \n",
    "        count += 1\n",
    "\n",
    "file_write.close()\n",
    "\n",
    "print(\"done\")"
   ]
  },
  {
   "cell_type": "code",
   "execution_count": null,
   "metadata": {
    "collapsed": true
   },
   "outputs": [],
   "source": []
  }
 ],
 "metadata": {
  "kernelspec": {
   "display_name": "Python 3",
   "language": "python",
   "name": "python3"
  },
  "language_info": {
   "codemirror_mode": {
    "name": "ipython",
    "version": 3
   },
   "file_extension": ".py",
   "mimetype": "text/x-python",
   "name": "python",
   "nbconvert_exporter": "python",
   "pygments_lexer": "ipython3",
   "version": "3.4.3"
  }
 },
 "nbformat": 4,
 "nbformat_minor": 2
}
