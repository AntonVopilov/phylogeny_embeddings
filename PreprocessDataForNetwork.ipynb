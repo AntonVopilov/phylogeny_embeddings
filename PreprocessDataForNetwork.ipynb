{
 "cells": [
  {
   "cell_type": "code",
   "execution_count": null,
   "metadata": {
    "collapsed": true,
    "deletable": true,
    "editable": true
   },
   "outputs": [],
   "source": []
  },
  {
   "cell_type": "raw",
   "metadata": {
    "deletable": true,
    "editable": true
   },
   "source": [
    "import gzip\n",
    "#### Code for Section 4 (Sequence to Embedding Model)   # 1\n",
    "all_lines = []\n",
    "#with gzip.open(\"superfam_all_bacteria_and_archaea_sequences_and_embeddings_test.gz\", 'rt') as zip_file:\n",
    "#with gzip.open(\"superfam_all_bacteria_and_archaea_sequences_and_embeddings_test.gz\", 'rt') as zip_file:\n",
    "with gzip.open(\"superfam_16S_bacteria_and_archaea_sequences_and_embeddings_train.gz\", 'rt') as zip_file:\n",
    "    all_lines = zip_file.readlines()\n",
    "print(len(all_lines))"
   ]
  },
  {
   "cell_type": "code",
   "execution_count": null,
   "metadata": {
    "collapsed": true,
    "deletable": true,
    "editable": true
   },
   "outputs": [],
   "source": [
    "#### Code for Section 4 (Sequence to Embedding Model)   # 2\n",
    "from random import shuffle\n",
    "length_index = int(len(all_lines)/3)\n",
    "all_indexes = list(range(0,length_index))\n",
    "shuffle(all_indexes)\n",
    "print(all_indexes[:10])"
   ]
  },
  {
   "cell_type": "code",
   "execution_count": null,
   "metadata": {
    "collapsed": true,
    "deletable": true,
    "editable": true
   },
   "outputs": [],
   "source": [
    "#### Code for Section 4 (Sequence to Embedding Model)   # 3\n",
    "\n",
    "#file_write = gzip.open(\"randomized_superfam_all_bacteria_and_archaea_sequences_and_embeddings.gz\", \"wt\")\n",
    "#file_write = gzip.open(\"randomized_superfam_all_bacteria_and_archaea_sequences_and_embeddings_test.gz\", \"wt\")\n",
    "file_write = gzip.open(\"randomized_superfam_16S_bacteria_and_archaea_sequences_and_embeddings_train.gz\", \"wt\")\n",
    "count = 0\n",
    "for i in all_indexes:\n",
    "    idx = i*3\n",
    "    file_write.write(all_lines[idx])\n",
    "    file_write.write(all_lines[idx+1])\n",
    "    file_write.write(all_lines[idx+2])\n",
    "    count += 1\n",
    "    #if (count%100 == 0):\n",
    "     #   break\n",
    "file_write.close()"
   ]
  },
  {
   "cell_type": "code",
   "execution_count": null,
   "metadata": {
    "collapsed": true,
    "deletable": true,
    "editable": true
   },
   "outputs": [],
   "source": [
    "#### Code for Section 4 (Sequence to Embedding Model)   # 4\n",
    "# read in the randomized input file and create input for network\n",
    "# really short for now\n",
    "import numpy as np\n",
    "import h5py\n",
    "alphabet = \"NACGT\"\n",
    "char_to_int = dict((c, i) for i, c in enumerate(alphabet))\n",
    "int_to_char = dict((i, c) for i, c in enumerate(alphabet))\n",
    "time_steps = 100\n",
    "batch_size = 1\n",
    "category = 10\n",
    "count = 0\n",
    "X = []\n",
    "Y = []\n",
    "#with gzip.open(\"randomized_superfam_all_bacteria_and_archaea_sequences_and_embeddings_train.gz\", 'rt') as zip_file:\n",
    "#with gzip.open(\"randomized_superfam_all_bacteria_and_archaea_sequences_and_embeddings_test.gz\", 'rt') as zip_file:\n",
    "with gzip.open(\"randomized_superfam_16S_bacteria_and_archaea_sequences_and_embeddings_train.gz\", 'rt') as zip_file:\n",
    "    for header in zip_file:\n",
    "        #if (count >= 100000):\n",
    "        #if (count >= 1000):    \n",
    "         #   break\n",
    "        #print(line)\n",
    "        x_data = zip_file.readline().strip()\n",
    "        y_data = zip_file.readline().strip()\n",
    "        integer_encoded = [char_to_int[char] for char in x_data]\n",
    "        \n",
    "        \n",
    "        y_data = np.asarray(y_data[1:-1].split(\", \"))\n",
    "        y_data = [float(i) for i in y_data]\n",
    "        \n",
    "        \n",
    "        X.append(np.asarray(integer_encoded))#.reshape(batch_size, time_steps))\n",
    "        #print(\"X_train Shape = \", X_train[-1].shape)\n",
    "        Y.append(np.asarray(y_data)) #.reshape(batch_size, category))\n",
    "        #print(\"Y_train Shape = \", Y_train[-1].shape)\n",
    "        \n",
    "        count += 1\n",
    "\n",
    "#h5f_X = h5py.File('X_train_superfam_all_bacteria_and_archaea.h5', 'w')\n",
    "#h5f_X = h5py.File('X_test_1K_superfam_all_bacteria_and_archaea.h5', 'w')\n",
    "h5f_X = h5py.File('X_train_superfam_16S_bacteria_and_archaea.h5', 'w')\n",
    "h5f_X.create_dataset('X', data=X)\n",
    "h5f_X.close()\n",
    "#h5f_Y = h5py.File('Y_train_superfam_all_bacteria_and_archaea.h5', 'w')\n",
    "#h5f_Y = h5py.File('Y_test_1K_superfam_all_bacteria_and_archaea.h5', 'w')\n",
    "h5f_Y = h5py.File('Y_train_superfam_16S_bacteria_and_archaea.h5', 'w')\n",
    "h5f_Y.create_dataset('Y', data=Y)\n",
    "h5f_Y.close()\n",
    "print(\"done\")"
   ]
  },
  {
   "cell_type": "code",
   "execution_count": null,
   "metadata": {
    "collapsed": true,
    "deletable": true,
    "editable": true
   },
   "outputs": [],
   "source": [
    "print(\"hi\")"
   ]
  },
  {
   "cell_type": "code",
   "execution_count": null,
   "metadata": {
    "collapsed": true,
    "deletable": true,
    "editable": true
   },
   "outputs": [],
   "source": []
  },
  {
   "cell_type": "code",
   "execution_count": null,
   "metadata": {
    "collapsed": true,
    "deletable": true,
    "editable": true
   },
   "outputs": [],
   "source": []
  },
  {
   "cell_type": "code",
   "execution_count": null,
   "metadata": {
    "collapsed": true,
    "deletable": true,
    "editable": true
   },
   "outputs": [],
   "source": [
    "#### Code for Section 4 (Sequence to Embedding Model)   # 5\n",
    "\n",
    "# Process test evaluation predictions from keras and associate them with labels\n",
    "import numpy as np\n",
    "import h5py\n",
    "\n",
    "h5f = h5py.File('test_evaluation_Dec6_model_superfam_16S_bacteria_and_archaea.h5','r')\n",
    "Y_Predictions = h5f['Y'][:]\n",
    "h5f.close()\n",
    "\n",
    "count = 0\n",
    "file_write = gzip.open(\"test_evaluation_with_labels_Dec6_model_superfam_16S_bacteria_and_archaea_sequences_and_embeddings.gz\", \"wt\")\n",
    "with gzip.open(\"randomized_superfam_16S_bacteria_and_archaea_sequences_and_embeddings_test.gz\", 'rt') as zip_file:\n",
    "    for header in zip_file:\n",
    "        #if (count >= 1000):\n",
    "        #    break\n",
    "        file_write.write(header.strip() + \"\\n\")\n",
    "        x_data = zip_file.readline().strip()\n",
    "        y_data = zip_file.readline().strip()\n",
    "        file_write.write(str(Y_Predictions[count].tolist()))\n",
    "        file_write.write(\"\\n\")\n",
    "        \n",
    "        count += 1\n",
    "\n",
    "file_write.close()\n",
    "\n",
    "print(\"done\")"
   ]
  },
  {
   "cell_type": "code",
   "execution_count": null,
   "metadata": {
    "collapsed": true,
    "deletable": true,
    "editable": true
   },
   "outputs": [],
   "source": [
    "# Below, all for new experiment with siamese network\n",
    "import gzip\n",
    "all_lines = []\n",
    "print(\"hello\")\n",
    "with gzip.open(\"pairs_and_distance_16S_train.gz\", 'rt') as zip_file:\n",
    "    all_lines = zip_file.readlines()\n",
    "print(len(all_lines))"
   ]
  },
  {
   "cell_type": "code",
   "execution_count": null,
   "metadata": {
    "collapsed": true,
    "deletable": true,
    "editable": true
   },
   "outputs": [],
   "source": [
    "from random import shuffle\n",
    "length_index = int(len(all_lines)/4)\n",
    "all_indexes = list(range(0,length_index))\n",
    "shuffle(all_indexes)\n",
    "print(all_indexes[:10])"
   ]
  },
  {
   "cell_type": "code",
   "execution_count": null,
   "metadata": {
    "collapsed": true,
    "deletable": true,
    "editable": true
   },
   "outputs": [],
   "source": [
    "file_write = gzip.open(\"randomized_pairs_and_distance_16S_train.gz\", \"wt\")\n",
    "count = 0\n",
    "for i in all_indexes:\n",
    "    idx = i*4\n",
    "    file_write.write(all_lines[idx])\n",
    "    file_write.write(all_lines[idx+1])\n",
    "    file_write.write(all_lines[idx+2])\n",
    "    file_write.write(all_lines[idx+3])\n",
    "    count += 1\n",
    "    #if (count%100 == 0):\n",
    "     #   break\n",
    "file_write.close()"
   ]
  },
  {
   "cell_type": "code",
   "execution_count": 1,
   "metadata": {
    "collapsed": false,
    "deletable": true,
    "editable": true
   },
   "outputs": [
    {
     "name": "stdout",
     "output_type": "stream",
     "text": [
      "done\n"
     ]
    }
   ],
   "source": [
    "# 2nd experiment: create the h5py files for the twin network training set\n",
    "# translate the input file into three h5py files\n",
    "import numpy as np\n",
    "import h5py\n",
    "import gzip\n",
    "alphabet = \"NACGT\"\n",
    "char_to_int = dict((c, i) for i, c in enumerate(alphabet))\n",
    "int_to_char = dict((i, c) for i, c in enumerate(alphabet))\n",
    "time_steps = 100\n",
    "batch_size = 1\n",
    "category = 10\n",
    "count = 0\n",
    "X_a = []\n",
    "X_b = []\n",
    "Y = []\n",
    "with gzip.open(\"randomized_pairs_and_distance_16S_train.gz\", 'rt') as zip_file:\n",
    "    for header in zip_file:\n",
    "        \n",
    "        x_a_data = zip_file.readline().strip()\n",
    "        x_b_data = zip_file.readline().strip()\n",
    "        y_data = zip_file.readline().strip()\n",
    "        \n",
    "        if ((len(x_a_data)!=100) or (len(x_b_data) != 100)):\n",
    "            continue\n",
    "        \n",
    "        integer_encoded_a = [char_to_int[char] for char in x_a_data]\n",
    "        integer_encoded_b = [char_to_int[char] for char in x_b_data]\n",
    "        \n",
    "        #print(integer_encoded_b)\n",
    "        y_data = np.asarray(float(y_data))\n",
    "        #y_data = [float(i) for i in y_data]\n",
    "        \n",
    "        \n",
    "        X_a.append(np.asarray(integer_encoded_a))#.reshape(batch_size, time_steps))\n",
    "        X_b.append(np.asarray(integer_encoded_b))\n",
    "        #print(\"X_train Shape = \", X_train[-1].shape)\n",
    "        Y.append(np.asarray(y_data)) #.reshape(batch_size, category))\n",
    "        #print(\"Y_train Shape = \", Y_train[-1].shape)\n",
    "        \n",
    "        count += 1\n",
    "\n",
    "h5f_X = h5py.File('X_train_twin_sequences_a.h5', 'w')\n",
    "h5f_X.create_dataset('X_a', data=X_a)\n",
    "h5f_X.close()\n",
    "h5f_X = h5py.File('X_train_twin_sequences_b.h5', 'w')\n",
    "h5f_X.create_dataset('X_b', data=X_b)\n",
    "h5f_X.close()\n",
    "h5f_Y = h5py.File('Y_train_twin_sequences.h5', 'w')\n",
    "h5f_Y.create_dataset('Y', data=Y)\n",
    "h5f_Y.close()\n",
    "print(\"done\")"
   ]
  },
  {
   "cell_type": "code",
   "execution_count": 2,
   "metadata": {
    "collapsed": false,
    "deletable": true,
    "editable": true
   },
   "outputs": [
    {
     "name": "stdout",
     "output_type": "stream",
     "text": [
      "done\n"
     ]
    }
   ],
   "source": [
    "# 2nd experiment: create the h5py files for the twin network test set\n",
    "import numpy as np\n",
    "import h5py\n",
    "import gzip\n",
    "alphabet = \"NACGT\"\n",
    "char_to_int = dict((c, i) for i, c in enumerate(alphabet))\n",
    "int_to_char = dict((i, c) for i, c in enumerate(alphabet))\n",
    "time_steps = 100\n",
    "batch_size = 1\n",
    "category = 10\n",
    "count = 0\n",
    "X_a = []\n",
    "X_b = []\n",
    "Y = []\n",
    "with gzip.open(\"pairs_and_distance_16S_test_seen_leaf_pairs.gz\", 'rt') as zip_file:\n",
    "    for header in zip_file:\n",
    "        \n",
    "        x_a_data = zip_file.readline().strip()\n",
    "        x_b_data = zip_file.readline().strip()\n",
    "        y_data = zip_file.readline().strip()\n",
    "        \n",
    "        if ((len(x_a_data)!=100) or (len(x_b_data) != 100)):\n",
    "            continue\n",
    "        \n",
    "        integer_encoded_a = [char_to_int[char] for char in x_a_data]\n",
    "        integer_encoded_b = [char_to_int[char] for char in x_b_data]\n",
    "        \n",
    "        #print(integer_encoded_b)\n",
    "        y_data = np.asarray(float(y_data))\n",
    "        #y_data = [float(i) for i in y_data]\n",
    "        \n",
    "        \n",
    "        X_a.append(np.asarray(integer_encoded_a))#.reshape(batch_size, time_steps))\n",
    "        X_b.append(np.asarray(integer_encoded_b))\n",
    "        #print(\"X_train Shape = \", X_train[-1].shape)\n",
    "        Y.append(np.asarray(y_data)) #.reshape(batch_size, category))\n",
    "        #print(\"Y_train Shape = \", Y_train[-1].shape)\n",
    "        \n",
    "        count += 1\n",
    "\n",
    "h5f_X = h5py.File('X_test_seen_leaf_pairs_twin_sequences_a.h5', 'w')\n",
    "h5f_X.create_dataset('X_a', data=X_a)\n",
    "h5f_X.close()\n",
    "h5f_X = h5py.File('X_test_seen_leaf_pairs_twin_sequences_b.h5', 'w')\n",
    "h5f_X.create_dataset('X_b', data=X_b)\n",
    "h5f_X.close()\n",
    "h5f_Y = h5py.File('Y_test_seen_leaf_pairs_twin_sequences.h5', 'w')\n",
    "h5f_Y.create_dataset('Y', data=Y)\n",
    "h5f_Y.close()\n",
    "print(\"done\")"
   ]
  },
  {
   "cell_type": "code",
   "execution_count": 19,
   "metadata": {
    "collapsed": false,
    "deletable": true,
    "editable": true
   },
   "outputs": [
    {
     "name": "stdout",
     "output_type": "stream",
     "text": [
      "Mean Square Error\n",
      "0.00336962418114\n",
      "Mean Error\n",
      "0.0443761275503\n"
     ]
    },
    {
     "data": {
      "image/png": "[encoded data removed]",
      "text/plain": [
       "<matplotlib.figure.Figure at 0x7f34c2cbd9b0>"
      ]
     },
     "metadata": {},
     "output_type": "display_data"
    }
   ],
   "source": [
    "# For Siamese Network: Process test evaluation predictions from keras and associate them with labels\n",
    "%matplotlib inline\n",
    "import matplotlib.pyplot as plt\n",
    "from matplotlib.pyplot import subplot\n",
    "import numpy as np\n",
    "import h5py\n",
    "import math\n",
    "\n",
    "h5f = h5py.File('test_evaluation_Jan15_model_twin_sequences.h5','r')\n",
    "Y_Predictions = h5f['Y'][:]\n",
    "h5f.close()\n",
    "\n",
    "h5f = h5py.File('Y_test_seen_leaf_pairs_twin_sequences.h5','r')\n",
    "Y_Real = h5f['Y'][:]\n",
    "h5f.close()\n",
    "\n",
    "sq_errors = []\n",
    "errors = []\n",
    "for i in range(0, len(Y_Real)):\n",
    "    errors.append(Y_Real[i] - Y_Predictions[i][0])\n",
    "    sq_errors.append(math.pow(Y_Real[i] - Y_Predictions[i][0], 2))\n",
    "\n",
    "print(\"Mean Square Error\")\n",
    "print(np.mean(sq_errors))\n",
    "print(\"Mean Error\")\n",
    "print(np.mean(errors))\n",
    "plt.figure(1, figsize=(10, 5))\n",
    "plt.hist(errors, bins=200)\n",
    "plt.title(\"Distribution of Errors\")\n",
    "plt.show()"
   ]
  },
  {
   "cell_type": "code",
   "execution_count": null,
   "metadata": {
    "collapsed": true,
    "deletable": true,
    "editable": true
   },
   "outputs": [],
   "source": [
    "# all cells below for pairs_positive_negative examples"
   ]
  },
  {
   "cell_type": "code",
   "execution_count": 20,
   "metadata": {
    "collapsed": false,
    "deletable": true,
    "editable": true
   },
   "outputs": [
    {
     "name": "stdout",
     "output_type": "stream",
     "text": [
      "hello\n",
      "396728\n"
     ]
    }
   ],
   "source": [
    "import gzip\n",
    "all_lines = []\n",
    "print(\"hello\")\n",
    "with gzip.open(\"pairs_pos_neg_16S_train.gz\", 'rt') as zip_file:\n",
    "    all_lines = zip_file.readlines()\n",
    "print(len(all_lines))"
   ]
  },
  {
   "cell_type": "code",
   "execution_count": 21,
   "metadata": {
    "collapsed": false,
    "deletable": true,
    "editable": true
   },
   "outputs": [
    {
     "name": "stdout",
     "output_type": "stream",
     "text": [
      "[56000, 41724, 53819, 73656, 91754, 82117, 47306, 38047, 35791, 94317]\n"
     ]
    }
   ],
   "source": [
    "from random import shuffle\n",
    "length_index = int(len(all_lines)/4)\n",
    "all_indexes = list(range(0,length_index))\n",
    "shuffle(all_indexes)\n",
    "print(all_indexes[:10])"
   ]
  },
  {
   "cell_type": "code",
   "execution_count": 22,
   "metadata": {
    "collapsed": true,
    "deletable": true,
    "editable": true
   },
   "outputs": [],
   "source": [
    "file_write = gzip.open(\"randomized_pairs_pos_neg_16S_train.gz\", \"wt\")\n",
    "count = 0\n",
    "for i in all_indexes:\n",
    "    idx = i*4\n",
    "    file_write.write(all_lines[idx])\n",
    "    file_write.write(all_lines[idx+1])\n",
    "    file_write.write(all_lines[idx+2])\n",
    "    file_write.write(all_lines[idx+3])\n",
    "    count += 1\n",
    "    #if (count%100 == 0):\n",
    "     #   break\n",
    "file_write.close()"
   ]
  },
  {
   "cell_type": "code",
   "execution_count": 24,
   "metadata": {
    "collapsed": false,
    "deletable": true,
    "editable": true
   },
   "outputs": [
    {
     "name": "stdout",
     "output_type": "stream",
     "text": [
      "done\n"
     ]
    }
   ],
   "source": [
    "# create the h5py files for the pairs pos neg set\n",
    "# translate the input file into three h5py files\n",
    "import numpy as np\n",
    "import h5py\n",
    "import gzip\n",
    "alphabet = \"NACGT\"\n",
    "char_to_int = dict((c, i) for i, c in enumerate(alphabet))\n",
    "int_to_char = dict((i, c) for i, c in enumerate(alphabet))\n",
    "time_steps = 100\n",
    "batch_size = 1\n",
    "category = 10\n",
    "count = 0\n",
    "X_a = []\n",
    "X_b = []\n",
    "Y = []\n",
    "with gzip.open(\"pairs_pos_neg_16S_test.gz\", 'rt') as zip_file: #randomized_pairs_pos_neg_16S_train.gz\n",
    "    for header in zip_file:\n",
    "        \n",
    "        x_a_data = zip_file.readline().strip()\n",
    "        x_b_data = zip_file.readline().strip()\n",
    "        y_data = zip_file.readline().strip()\n",
    "        \n",
    "        if ((len(x_a_data)!=100) or (len(x_b_data) != 100)):\n",
    "            continue\n",
    "        \n",
    "        integer_encoded_a = [char_to_int[char] for char in x_a_data]\n",
    "        integer_encoded_b = [char_to_int[char] for char in x_b_data]\n",
    "        \n",
    "        #print(integer_encoded_b)\n",
    "        y_data = np.asarray(int(y_data))\n",
    "        #y_data = [float(i) for i in y_data]\n",
    "        \n",
    "        \n",
    "        X_a.append(np.asarray(integer_encoded_a))#.reshape(batch_size, time_steps))\n",
    "        X_b.append(np.asarray(integer_encoded_b))\n",
    "        #print(\"X_train Shape = \", X_train[-1].shape)\n",
    "        Y.append(np.asarray(y_data)) #.reshape(batch_size, category))\n",
    "        #print(\"Y_train Shape = \", Y_train[-1].shape)\n",
    "        \n",
    "        count += 1\n",
    "\n",
    "h5f_X = h5py.File('X_test_pairs_pos_neg_a.h5', 'w') #X_train_pairs_pos_neg_a.h5\n",
    "h5f_X.create_dataset('X_a', data=X_a)\n",
    "h5f_X.close()\n",
    "h5f_X = h5py.File('X_test_pairs_pos_neg_b.h5', 'w') #X_train_pairs_pos_neg_b.h5\n",
    "h5f_X.create_dataset('X_b', data=X_b)\n",
    "h5f_X.close()\n",
    "h5f_Y = h5py.File('Y_test_pairs_pos_neg.h5', 'w') #Y_train_pairs_pos_neg.h5\n",
    "h5f_Y.create_dataset('Y', data=Y)\n",
    "h5f_Y.close()\n",
    "print(\"done\")"
   ]
  },
  {
   "cell_type": "code",
   "execution_count": null,
   "metadata": {
    "collapsed": true,
    "deletable": true,
    "editable": true
   },
   "outputs": [],
   "source": []
  }
 ],
 "metadata": {
  "kernelspec": {
   "display_name": "Python 3",
   "language": "python",
   "name": "python3"
  },
  "language_info": {
   "codemirror_mode": {
    "name": "ipython",
    "version": 3
   },
   "file_extension": ".py",
   "mimetype": "text/x-python",
   "name": "python",
   "nbconvert_exporter": "python",
   "pygments_lexer": "ipython3",
   "version": "3.6.0"
  }
 },
 "nbformat": 4,
 "nbformat_minor": 2
}
