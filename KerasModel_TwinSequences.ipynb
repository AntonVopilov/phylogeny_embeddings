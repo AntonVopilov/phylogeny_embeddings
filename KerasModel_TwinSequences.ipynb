{
 "cells": [
  {
   "cell_type": "code",
   "execution_count": 2,
   "metadata": {},
   "outputs": [
    {
     "name": "stderr",
     "output_type": "stream",
     "text": [
      "Using TensorFlow backend.\n"
     ]
    }
   ],
   "source": [
    "import numpy as np\n",
    "import h5py\n",
    "import tensorflow as tf\n",
    "import keras\n",
    "from keras.models import Sequential, Model\n",
    "from keras.layers import Conv1D, MaxPooling1D\n",
    "from keras.layers import Input, Embedding\n",
    "from keras.layers import Dense, Merge, Dropout\n",
    "from keras.layers import LSTM, Bidirectional\n",
    "from keras import metrics\n",
    "from keras import backend as K\n",
    "from keras.layers import Lambda\n",
    "import pickle"
   ]
  },
  {
   "cell_type": "code",
   "execution_count": 3,
   "metadata": {},
   "outputs": [
    {
     "name": "stdout",
     "output_type": "stream",
     "text": [
      "____________________________________________________________________________________________________\n",
      "Layer (type)                     Output Shape          Param #     Connected to                     \n",
      "====================================================================================================\n",
      "input_2 (InputLayer)             (None, 100)           0                                            \n",
      "____________________________________________________________________________________________________\n",
      "input_3 (InputLayer)             (None, 100)           0                                            \n",
      "____________________________________________________________________________________________________\n",
      "model_1 (Model)                  (None, 10)            3879910                                      \n",
      "____________________________________________________________________________________________________\n",
      "lambda_1 (Lambda)                (None, 1)             0                                            \n",
      "====================================================================================================\n",
      "Total params: 3,879,910\n",
      "Trainable params: 3,879,910\n",
      "Non-trainable params: 0\n",
      "____________________________________________________________________________________________________\n"
     ]
    }
   ],
   "source": [
    "alphabet = \"NACGT\"\n",
    "vocab_size = len(alphabet)\n",
    "time_steps = 100\n",
    "embedding_size = 300 # for embedding layer, maybe remove\n",
    "dense_size = 300\n",
    "category = 10 # size of Y_vector\n",
    "\n",
    "genome_input_shape = (100,)\n",
    "\n",
    "def euclidean_distance(vects):\n",
    "    x, y = vects\n",
    "    return K.sqrt(K.maximum(K.sum(K.square(x - y), axis=1, keepdims=True), K.epsilon()))\n",
    "\n",
    "def eucl_dist_output_shape(shapes):\n",
    "    shape1, shape2 = shapes\n",
    "    return (shape1[0], 1)\n",
    "\n",
    "def create_base_network(input_shape):\n",
    "    input = Input(shape=input_shape)\n",
    "    x = Embedding(vocab_size, embedding_size, input_length=time_steps)(input)\n",
    "    x = Bidirectional(LSTM(units=300, return_sequences=True))(x)\n",
    "    x = Dropout(0.50)(x)\n",
    "    x = Bidirectional(LSTM(units=300))(x)\n",
    "    x = Dropout(0.50)(x)\n",
    "\n",
    "    x = Dense(dense_size, activation='relu')(x)\n",
    "    x = Dense(dense_size, activation='relu')(x)\n",
    "    x = Dense(category, activation='linear')(x)\n",
    "    return Model(input, x)\n",
    "\n",
    "\n",
    "model_makes_embedding = create_base_network(genome_input_shape)\n",
    "\n",
    "input_a = Input(shape=genome_input_shape)\n",
    "input_b = Input(shape=genome_input_shape)\n",
    "\n",
    "processed_a = model_makes_embedding(input_a)\n",
    "processed_b = model_makes_embedding(input_b)\n",
    "\n",
    "distance = Lambda(euclidean_distance,\n",
    "                  output_shape=eucl_dist_output_shape)([processed_a, processed_b])\n",
    "\n",
    "model_twin_sequences = Model([input_a, input_b], distance)\n",
    "\n",
    "model_twin_sequences.compile(optimizer='adam', loss='mean_squared_error', metrics=['mean_squared_error'])\n",
    "\n",
    "model_twin_sequences.summary()"
   ]
  },
  {
   "cell_type": "code",
   "execution_count": 3,
   "metadata": {},
   "outputs": [
    {
     "name": "stdout",
     "output_type": "stream",
     "text": [
      "(99431, 100)\n",
      "(99431,)\n",
      "[[1 2 3 1 1 1 3 2 3 4 3 3 3 3 1 3 2 1 1 1 2 1 3 3 1 4 4 1 3 1 4 1 2 2 2 4 3\n",
      "  3 4 1 3 4 2 2 1 2 3 2 2 3 4 1 1 1 2 3 1 4 3 1 1 4 3 2 4 1 3 4 4 3 4 2 1 3\n",
      "  3 4 1 3 2 4 4 3 2 4 1 4 4 4 3 3 4 3 1 2 3 2 1 3 2 4]]\n",
      "[[2 3 2 3 1 1 1 3 2 3 4 3 3 3 3 1 3 2 1 1 1 2 1 3 3 1 4 4 1 3 1 4 1 2 2 2 4\n",
      "  3 3 4 1 3 4 2 2 1 2 3 2 4 3 4 1 1 1 2 3 1 4 3 4 3 4 3 2 4 3 3 1 4 3 4 4 3\n",
      "  3 3 1 1 1 2 4 4 1 3 4 4 4 2 4 2 1 3 4 3 4 2 3 1 1 3]]\n",
      "[ 0.09754117]\n"
     ]
    }
   ],
   "source": [
    "h5f = h5py.File('X_train_twin_sequences_a.h5','r')\n",
    "X_train_a = h5f['X_a'][:]\n",
    "h5f.close()\n",
    "h5f = h5py.File('X_train_twin_sequences_b.h5','r')\n",
    "X_train_b = h5f['X_b'][:]\n",
    "h5f.close()\n",
    "h5f = h5py.File('Y_train_twin_sequences.h5','r')\n",
    "Y_train = h5f['Y'][:]\n",
    "h5f.close()\n",
    "print(X_train_a.shape)\n",
    "print(Y_train.shape)\n",
    "print(X_train_a[1000:1001])\n",
    "print(X_train_b[1000:1001])\n",
    "print(Y_train[:1])"
   ]
  },
  {
   "cell_type": "code",
   "execution_count": 9,
   "metadata": {},
   "outputs": [
    {
     "name": "stdout",
     "output_type": "stream",
     "text": [
      "Epoch 1/1\n",
      "99586/99586 [==============================] - 2385s - loss: 0.0015 - mean_squared_error: 0.0015  \n"
     ]
    },
    {
     "data": {
      "text/plain": [
       "<keras.callbacks.History at 0x7f7cb403ce80>"
      ]
     },
     "execution_count": 9,
     "metadata": {},
     "output_type": "execute_result"
    }
   ],
   "source": [
    "# Resource exhausted: OOM when allocating tensor\n",
    "#model_twin_sequences.fit([X_train_a[:1], X_train_b[:1]], Y_train[:1], batch_size=128)\n",
    "model_twin_sequences.fit([X_train_a, X_train_b], Y_train, batch_size=128)"
   ]
  },
  {
   "cell_type": "code",
   "execution_count": 11,
   "metadata": {},
   "outputs": [
    {
     "name": "stdout",
     "output_type": "stream",
     "text": [
      "Epoch 1/1\n",
      "1/1 [==============================] - 3s - loss: 9.3139e-04 - mean_squared_error: 9.3139e-04\n"
     ]
    }
   ],
   "source": [
    "for myset in range(1,2):\n",
    "    history = model_twin_sequences.fit([X_train_a[:1], X_train_b[:1]], Y_train[:1], batch_size=128, shuffle=True, epochs=1)\n",
    "    model_twin_sequences.save('Jan11_model_twin_sequences_set' + str(myset) + '.h5')\n",
    "    model_makes_embedding.save('Jan11_model_makes_embedding_set' + str(myset) + '.h5')\n",
    "    with open('Jan11_model_twin_sequences_set' + str(myset) + 'history.txt', 'wb') as handle:\n",
    "        pickle.dump(history.history, handle)"
   ]
  },
  {
   "cell_type": "code",
   "execution_count": 4,
   "metadata": {
    "collapsed": true
   },
   "outputs": [],
   "source": [
    "# load the model and try to do a prediction\n",
    "from keras.models import load_model\n",
    "trained_twin_model = load_model('Jan15_model_twin_sequences_set4.h5')"
   ]
  },
  {
   "cell_type": "code",
   "execution_count": 5,
   "metadata": {},
   "outputs": [
    {
     "data": {
      "text/plain": [
       "array([[ 0.06576788],\n",
       "       [ 0.01736797],\n",
       "       [ 0.10507537],\n",
       "       [ 0.02371137],\n",
       "       [ 0.05111643],\n",
       "       [ 0.03630906],\n",
       "       [ 0.03503447],\n",
       "       [ 0.04084076],\n",
       "       [ 0.05925367],\n",
       "       [ 0.04531624]], dtype=float32)"
      ]
     },
     "execution_count": 5,
     "metadata": {},
     "output_type": "execute_result"
    }
   ],
   "source": [
    "trained_twin_model.predict([X_train_a[:10], X_train_b[:10]])"
   ]
  },
  {
   "cell_type": "code",
   "execution_count": 6,
   "metadata": {},
   "outputs": [
    {
     "name": "stdout",
     "output_type": "stream",
     "text": [
      "[ 0.09754117  0.03762848  0.11574222  0.10442022  0.05196745  0.07465029\n",
      "  0.06504191  0.07884294  0.09664609  0.10845492]\n"
     ]
    }
   ],
   "source": [
    "print(Y_train[:10])"
   ]
  },
  {
   "cell_type": "code",
   "execution_count": 15,
   "metadata": {
    "collapsed": true
   },
   "outputs": [],
   "source": [
    "h5f = h5py.File('X_test_seen_leaf_pairs_twin_sequences_a.h5','r')\n",
    "X_test_a = h5f['X_a'][:]\n",
    "h5f.close()\n",
    "h5f = h5py.File('X_test_seen_leaf_pairs_twin_sequences_b.h5','r')\n",
    "X_test_b = h5f['X_b'][:]\n",
    "h5f.close()\n",
    "predictions = trained_twin_model.predict([X_test_a, X_test_b])\n",
    "h5f_Y = h5py.File('test_evaluation_Jan15_model_twin_sequences.h5', 'w')\n",
    "h5f_Y.create_dataset('Y', data=predictions)\n",
    "h5f_Y.close()"
   ]
  },
  {
   "cell_type": "code",
   "execution_count": 14,
   "metadata": {},
   "outputs": [
    {
     "name": "stdout",
     "output_type": "stream",
     "text": [
      "loaded\n",
      "[0.0015254691588983656, 0.0015076220762050808, 0.0014923455268876554, 0.0014647507661369201, 0.001422291532153007, 0.0013823993185363215, 0.001373096540039374, 0.0013595330245138606, 0.0013643815060747587, 0.0013437856325802214, 0.0013377889692998037, 0.0013360963498175444, 0.0013269741348180611, 0.0013249459213460898, 0.0013215323288767887, 0.001320518268542842, 0.0013187901275485143, 0.0013097980133816996, 0.001314101632173371, 0.0013146021075890605]\n"
     ]
    },
    {
     "data": {
      "text/plain": [
       "<matplotlib.text.Text at 0x7fbb40a719b0>"
      ]
     },
     "execution_count": 14,
     "metadata": {},
     "output_type": "execute_result"
    },
    {
     "data": {
      "image/png": "[encoded data removed]",
      "text/plain": [
       "<matplotlib.figure.Figure at 0x7fbb41c1ea58>"
      ]
     },
     "metadata": {},
     "output_type": "display_data"
    }
   ],
   "source": [
    "%matplotlib inline\n",
    "import matplotlib.pyplot as plt\n",
    "#plt.plot(history_epoch_1_50_100K['mean_squared_error'] + history_epoch_50_100_100K['mean_squared_error'])\n",
    "#plt.plot(history_epoch_1_50_100K['val_mean_squared_error'] + history_epoch_50_100_100K['val_mean_squared_error'])\n",
    "mse = []\n",
    "for myset in range(1,5):\n",
    "    with open('Jan15_model_twin_sequences_set' + str(myset) + '_history.txt', 'rb') as handle:\n",
    "        saved_history = pickle.loads(handle.read())\n",
    "        mse += saved_history['mean_squared_error']\n",
    "print(\"loaded\")\n",
    "print(mse)\n",
    "plt.plot(mse)\n",
    "plt.title('mean squared error')\n",
    "plt.xticks(np.arange(0, 20, 1))\n",
    "plt.ylabel('mse')\n",
    "plt.xlabel('epoch')"
   ]
  },
  {
   "cell_type": "code",
   "execution_count": null,
   "metadata": {
    "collapsed": true
   },
   "outputs": [],
   "source": []
  }
 ],
 "metadata": {
  "kernelspec": {
   "display_name": "Python 3",
   "language": "python",
   "name": "python3"
  },
  "language_info": {
   "codemirror_mode": {
    "name": "ipython",
    "version": 3
   },
   "file_extension": ".py",
   "mimetype": "text/x-python",
   "name": "python",
   "nbconvert_exporter": "python",
   "pygments_lexer": "ipython3",
   "version": "3.4.3"
  }
 },
 "nbformat": 4,
 "nbformat_minor": 2
}
