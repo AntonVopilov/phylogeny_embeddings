{
 "cells": [
  {
   "cell_type": "code",
   "execution_count": null,
   "metadata": {},
   "outputs": [],
   "source": [
    "import numpy as np\n",
    "import h5py\n",
    "import tensorflow as tf\n",
    "import keras\n",
    "from keras.models import Sequential, Model\n",
    "from keras.layers import Conv1D, MaxPooling1D\n",
    "from keras.layers import Input, Embedding\n",
    "from keras.layers import Dense, Merge, Dropout\n",
    "from keras.layers import LSTM, Bidirectional\n",
    "from keras import metrics\n",
    "from keras import backend as K\n",
    "from keras.layers import Lambda\n",
    "gpu_options = tf.GPUOptions(allow_growth=True)\n",
    "session = tf.InteractiveSession(config=tf.ConfigProto(gpu_options=gpu_options))"
   ]
  },
  {
   "cell_type": "code",
   "execution_count": null,
   "metadata": {},
   "outputs": [],
   "source": [
    "alphabet = \"NACGT\"\n",
    "vocab_size = len(alphabet)\n",
    "time_steps = 100\n",
    "embedding_size = 300 # for embedding layer, maybe remove\n",
    "dense_size = 300\n",
    "category = 10 # size of Y_vector\n",
    "\n",
    "genome_input_shape = (100,)\n",
    "\n",
    "def euclidean_distance(vects):\n",
    "    x, y = vects\n",
    "    return K.sqrt(K.maximum(K.sum(K.square(x - y), axis=1, keepdims=True), K.epsilon()))\n",
    "\n",
    "def eucl_dist_output_shape(shapes):\n",
    "    shape1, shape2 = shapes\n",
    "    return (shape1[0], 1)\n",
    "\n",
    "def create_base_network(input_shape):\n",
    "    input = Input(shape=input_shape)\n",
    "    x = Embedding(vocab_size, embedding_size, input_length=time_steps)(input)\n",
    "    x = Bidirectional(LSTM(units=300, return_sequences=True))(x)\n",
    "    x = Dropout(0.50)(x)\n",
    "    x = Bidirectional(LSTM(units=300))(x)\n",
    "    x = Dropout(0.50)(x)\n",
    "\n",
    "    x = Dense(dense_size, activation='relu')(x)\n",
    "    x = Dense(dense_size, activation='relu')(x)\n",
    "    x = Dense(category, activation='linear')(x)\n",
    "    return Model(input, x)\n",
    "\n",
    "\n",
    "model_makes_embedding = create_base_network(genome_input_shape)\n",
    "\n",
    "input_a = Input(shape=genome_input_shape)\n",
    "input_b = Input(shape=genome_input_shape)\n",
    "\n",
    "processed_a = model_makes_embedding(input_a)\n",
    "processed_b = model_makes_embedding(input_b)\n",
    "\n",
    "distance = Lambda(euclidean_distance,\n",
    "                  output_shape=eucl_dist_output_shape)([processed_a, processed_b])\n",
    "\n",
    "model_twin_sequences = Model([input_a, input_b], distance)\n",
    "\n",
    "model_twin_sequences.compile(optimizer='adam', loss='mean_squared_error', metrics=['mean_squared_error'])\n",
    "\n",
    "model_twin_sequences.summary()"
   ]
  },
  {
   "cell_type": "code",
   "execution_count": null,
   "metadata": {},
   "outputs": [],
   "source": [
    "h5f = h5py.File('X_train_twin_sequences_a.h5','r')\n",
    "X_train_a = h5f['X_a'][:]\n",
    "h5f.close()\n",
    "h5f = h5py.File('X_train_twin_sequences_b.h5','r')\n",
    "X_train_b = h5f['X_b'][:]\n",
    "h5f.close()\n",
    "h5f = h5py.File('Y_train_twin_sequences.h5','r')\n",
    "Y_train = h5f['Y'][:]\n",
    "h5f.close()\n",
    "print(X_train_a.shape)\n",
    "print(Y_train.shape)\n",
    "print(X_train_a[:1])\n",
    "print(X_train_b[:1])\n",
    "print(Y_train[:1])"
   ]
  },
  {
   "cell_type": "code",
   "execution_count": null,
   "metadata": {},
   "outputs": [],
   "source": [
    "\n",
    "model_twin_sequences.fit([X_train_a[:1000], X_train_b[:1000]], Y_train[:1000], batch_size=4)"
   ]
  },
  {
   "cell_type": "code",
   "execution_count": null,
   "metadata": {
    "collapsed": true
   },
   "outputs": [],
   "source": []
  }
 ],
 "metadata": {
  "kernelspec": {
   "display_name": "Python 3",
   "language": "python",
   "name": "python3"
  },
  "language_info": {
   "codemirror_mode": {
    "name": "ipython",
    "version": 3
   },
   "file_extension": ".py",
   "mimetype": "text/x-python",
   "name": "python",
   "nbconvert_exporter": "python",
   "pygments_lexer": "ipython3",
   "version": "3.4.3"
  }
 },
 "nbformat": 4,
 "nbformat_minor": 2
}
